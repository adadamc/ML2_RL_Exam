{
 "cells": [
  {
   "cell_type": "markdown",
   "id": "cd7d19b4-4cc0-49c5-8027-376d46ebb41d",
   "metadata": {},
   "source": [
    "# ML2 (CSCI 4052U) Exam: RL"
   ]
  },
  {
   "cell_type": "markdown",
   "id": "921bde35-13a8-4eee-8f71-ed0881daa1c6",
   "metadata": {},
   "source": [
    "Installs:\n",
    "- pip install gymnasium\n",
    "- pip install swig\n",
    "- pip install \"gymnasium[box2d]\""
   ]
  },
  {
   "cell_type": "code",
   "execution_count": 31,
   "id": "75bdd798-760b-4948-ab77-d4a809cfa6f5",
   "metadata": {},
   "outputs": [],
   "source": [
    "import gymnasium as gym\n",
    "import time"
   ]
  },
  {
   "cell_type": "markdown",
   "id": "464e6b58-c9bf-4b8c-8ca4-69184f1e1898",
   "metadata": {},
   "source": [
    "Lunar Lander Page: https://gymnasium.farama.org/environments/box2d/lunar_lander/"
   ]
  },
  {
   "cell_type": "code",
   "execution_count": 32,
   "id": "45df7d5a-e520-40c4-801e-b2063f921470",
   "metadata": {},
   "outputs": [
    {
     "name": "stdout",
     "output_type": "stream",
     "text": [
      "2\n",
      "Observation: 1  Reward: 0.0  Terminated: False  Truncated: False  Info: {'prob': 0.3333333333333333}\n",
      "0\n",
      "Observation: 9  Reward: 0.0  Terminated: False  Truncated: False  Info: {'prob': 0.3333333333333333}\n",
      "2\n",
      "Observation: 1  Reward: 0.0  Terminated: False  Truncated: False  Info: {'prob': 0.3333333333333333}\n",
      "3\n",
      "Observation: 2  Reward: 0.0  Terminated: False  Truncated: False  Info: {'prob': 0.3333333333333333}\n",
      "3\n",
      "Observation: 1  Reward: 0.0  Terminated: False  Truncated: False  Info: {'prob': 0.3333333333333333}\n",
      "3\n",
      "Observation: 0  Reward: 0.0  Terminated: False  Truncated: False  Info: {'prob': 0.3333333333333333}\n",
      "3\n",
      "Observation: 0  Reward: 0.0  Terminated: False  Truncated: False  Info: {'prob': 0.3333333333333333}\n",
      "3\n",
      "Observation: 1  Reward: 0.0  Terminated: False  Truncated: False  Info: {'prob': 0.3333333333333333}\n",
      "0\n",
      "Observation: 0  Reward: 0.0  Terminated: False  Truncated: False  Info: {'prob': 0.3333333333333333}\n",
      "0\n",
      "Observation: 0  Reward: 0.0  Terminated: False  Truncated: False  Info: {'prob': 0.3333333333333333}\n",
      "3\n",
      "Observation: 0  Reward: 0.0  Terminated: False  Truncated: False  Info: {'prob': 0.3333333333333333}\n",
      "0\n",
      "Observation: 0  Reward: 0.0  Terminated: False  Truncated: False  Info: {'prob': 0.3333333333333333}\n",
      "1\n",
      "Observation: 1  Reward: 0.0  Terminated: False  Truncated: False  Info: {'prob': 0.3333333333333333}\n",
      "2\n",
      "Observation: 2  Reward: 0.0  Terminated: False  Truncated: False  Info: {'prob': 0.3333333333333333}\n",
      "2\n",
      "Observation: 10  Reward: 0.0  Terminated: False  Truncated: False  Info: {'prob': 0.3333333333333333}\n",
      "3\n",
      "Observation: 2  Reward: 0.0  Terminated: False  Truncated: False  Info: {'prob': 0.3333333333333333}\n",
      "2\n",
      "Observation: 10  Reward: 0.0  Terminated: False  Truncated: False  Info: {'prob': 0.3333333333333333}\n",
      "2\n",
      "Observation: 2  Reward: 0.0  Terminated: False  Truncated: False  Info: {'prob': 0.3333333333333333}\n",
      "1\n",
      "Observation: 10  Reward: 0.0  Terminated: False  Truncated: False  Info: {'prob': 0.3333333333333333}\n",
      "0\n",
      "Observation: 18  Reward: 0.0  Terminated: False  Truncated: False  Info: {'prob': 0.3333333333333333}\n",
      "1\n",
      "Observation: 26  Reward: 0.0  Terminated: False  Truncated: False  Info: {'prob': 0.3333333333333333}\n",
      "0\n",
      "Observation: 34  Reward: 0.0  Terminated: False  Truncated: False  Info: {'prob': 0.3333333333333333}\n",
      "0\n",
      "Observation: 42  Reward: 0.0  Terminated: True  Truncated: False  Info: {'prob': 0.3333333333333333}\n",
      "0\n",
      "Observation: 0  Reward: 0.0  Terminated: False  Truncated: False  Info: {'prob': 0.3333333333333333}\n",
      "3\n",
      "Observation: 0  Reward: 0.0  Terminated: False  Truncated: False  Info: {'prob': 0.3333333333333333}\n"
     ]
    }
   ],
   "source": [
    "# Initialise the environment\n",
    "# If is_slippery = True, there is a 1/3 chance of moving in intended direction and 1/3 chance of moving in either perpendicular direction.\n",
    "# Ex. If left is intended. P(left) = 1/3, P(up) = 1/3. P(down) = 1/3\n",
    "env = gym.make(\"FrozenLake-v1\", map_name=\"8x8\", is_slippery=True, render_mode=\"human\")\n",
    "\n",
    "# Reset the environment to generate the first observation\n",
    "observation, info = env.reset(seed=42)\n",
    "for _ in range(25):\n",
    "    # this is where you would insert your policy\n",
    "    action = env.action_space.sample()\n",
    "    print(action)\n",
    "    env.render()\n",
    "    time.sleep(0.01)\n",
    "    # step (transition) through the environment with the action\n",
    "    # receiving the next observation, reward and if the episode has terminated or truncated\n",
    "    \n",
    "    # Observation: int (agent position). Start Point (Row 0, Col 0): 0*8+0 = 0. (Row 3, Col 2): 3*8+2 = 26.\n",
    "    observation, reward, terminated, truncated, info = env.step(action)\n",
    "    print(\"Observation:\", observation, \" Reward:\", reward, \" Terminated:\", terminated, \" Truncated:\", truncated, \" Info:\", info)\n",
    "\n",
    "    # If the episode has ended then we can reset to start a new episode\n",
    "    if terminated or truncated:\n",
    "        time.sleep(0.2)\n",
    "        observation, info = env.reset()\n",
    "env.close()"
   ]
  },
  {
   "cell_type": "code",
   "execution_count": 21,
   "id": "40e95f88-feb8-4cf8-bbb6-0e355735ee6e",
   "metadata": {},
   "outputs": [],
   "source": [
    "env.close()"
   ]
  },
  {
   "cell_type": "code",
   "execution_count": null,
   "id": "37d28847-f4d3-4c20-8bfb-bc0bc18bf83c",
   "metadata": {},
   "outputs": [],
   "source": []
  }
 ],
 "metadata": {
  "kernelspec": {
   "display_name": "Python 3 (ipykernel)",
   "language": "python",
   "name": "python3"
  },
  "language_info": {
   "codemirror_mode": {
    "name": "ipython",
    "version": 3
   },
   "file_extension": ".py",
   "mimetype": "text/x-python",
   "name": "python",
   "nbconvert_exporter": "python",
   "pygments_lexer": "ipython3",
   "version": "3.8.20"
  }
 },
 "nbformat": 4,
 "nbformat_minor": 5
}
